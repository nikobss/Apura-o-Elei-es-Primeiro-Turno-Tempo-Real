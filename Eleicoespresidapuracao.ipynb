{
  "nbformat": 4,
  "nbformat_minor": 0,
  "metadata": {
    "colab": {
      "provenance": [],
      "collapsed_sections": []
    },
    "kernelspec": {
      "name": "python3",
      "display_name": "Python 3"
    },
    "language_info": {
      "name": "python"
    }
  },
  "cells": [
    {
      "cell_type": "code",
      "execution_count": null,
      "metadata": {
        "colab": {
          "base_uri": "https://localhost:8080/"
        },
        "id": "06UXa8OnWHK1",
        "outputId": "71120b25-40bd-49f4-ea41-ed78a6dabd4a"
      },
      "outputs": [
        {
          "output_type": "stream",
          "name": "stdout",
          "text": [
            "Nome\tVotos\tPorcentagem\n",
            "LULA\t57238986\t48,42\n",
            "JAIR BOLSONARO\t51068260\t43,20\n",
            "SIMONE TEBET\t4915058\t4,16\n",
            "CIRO GOMES\t3598936\t3,04\n",
            "SORAYA THRONICKE\t600847\t0,51\n",
            "FELIPE D&apos;AVILA\t559673\t0,47\n",
            "PADRE KELMON\t81111\t0,07\n",
            "LÉO PÉRICLES\t53515\t0,05\n",
            "SOFIA MANZANO\t45612\t0,04\n",
            "VERA\t25622\t0,02\n",
            "CONSTITUINTE EYMAEL\t16601\t0,01\n"
          ]
        }
      ],
      "source": [
        "import requests\n",
        " \n",
        "URL = 'https://resultados.tse.jus.br/oficial/ele2022/544/dados-simplificados/br/br-c0001-e000544-r.json'\n",
        "resultado = requests.get(URL).json()\n",
        "tabela = sorted([\n",
        "    (candidate['nm'], candidate['vap'], candidate['pvap'])\n",
        "    for candidate in resultado['cand']\n",
        "    ], key=lambda linha: int(linha[1]), reverse=True) # Ordena por votos\n",
        " \n",
        "print('Nome\\tVotos\\tPorcentagem')\n",
        "for linha in tabela:\n",
        "    print('\\t'.join(linha))\n",
        " "
      ]
    }
  ]
}